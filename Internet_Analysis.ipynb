{
  "nbformat": 4,
  "nbformat_minor": 0,
  "metadata": {
    "colab": {
      "name": "Internet Analysis.ipynb",
      "provenance": [],
      "collapsed_sections": [],
      "authorship_tag": "ABX9TyPjTERw8+6HobZIX9PASvX8",
      "include_colab_link": true
    },
    "kernelspec": {
      "name": "python3",
      "display_name": "Python 3"
    },
    "language_info": {
      "name": "python"
    }
  },
  "cells": [
    {
      "cell_type": "markdown",
      "metadata": {
        "id": "view-in-github",
        "colab_type": "text"
      },
      "source": [
        "<a href=\"https://colab.research.google.com/github/Priya378/Internet-Analysis-Project/blob/main/Internet_Analysis.ipynb\" target=\"_parent\"><img src=\"https://colab.research.google.com/assets/colab-badge.svg\" alt=\"Open In Colab\"/></a>"
      ]
    },
    {
      "cell_type": "code",
      "metadata": {
        "id": "ZvTEzoMaamWg"
      },
      "source": [
        "# pylint: disable=invalid-name, missing-module-docstring, wrong-import-position, import-error"
      ],
      "execution_count": null,
      "outputs": []
    },
    {
      "cell_type": "markdown",
      "metadata": {
        "id": "ToCGABglGmpb"
      },
      "source": [
        "## **Making necessary installation and imports**"
      ]
    },
    {
      "cell_type": "code",
      "metadata": {
        "id": "WT4eitR5Liaz",
        "colab": {
          "base_uri": "https://localhost:8080/"
        },
        "outputId": "5964106a-de36-47ea-9d98-b5bb4344d383"
      },
      "source": [
        "!pip install pandas\n",
        "!pip install matplotlib\n",
        "!pip install IPython"
      ],
      "execution_count": null,
      "outputs": [
        {
          "output_type": "stream",
          "text": [
            "Requirement already satisfied: pandas in /usr/local/lib/python3.7/dist-packages (1.1.5)\n",
            "Requirement already satisfied: pytz>=2017.2 in /usr/local/lib/python3.7/dist-packages (from pandas) (2018.9)\n",
            "Requirement already satisfied: python-dateutil>=2.7.3 in /usr/local/lib/python3.7/dist-packages (from pandas) (2.8.1)\n",
            "Requirement already satisfied: numpy>=1.15.4 in /usr/local/lib/python3.7/dist-packages (from pandas) (1.19.5)\n",
            "Requirement already satisfied: six>=1.5 in /usr/local/lib/python3.7/dist-packages (from python-dateutil>=2.7.3->pandas) (1.15.0)\n",
            "Requirement already satisfied: matplotlib in /usr/local/lib/python3.7/dist-packages (3.2.2)\n",
            "Requirement already satisfied: cycler>=0.10 in /usr/local/lib/python3.7/dist-packages (from matplotlib) (0.10.0)\n",
            "Requirement already satisfied: numpy>=1.11 in /usr/local/lib/python3.7/dist-packages (from matplotlib) (1.19.5)\n",
            "Requirement already satisfied: pyparsing!=2.0.4,!=2.1.2,!=2.1.6,>=2.0.1 in /usr/local/lib/python3.7/dist-packages (from matplotlib) (2.4.7)\n",
            "Requirement already satisfied: python-dateutil>=2.1 in /usr/local/lib/python3.7/dist-packages (from matplotlib) (2.8.1)\n",
            "Requirement already satisfied: kiwisolver>=1.0.1 in /usr/local/lib/python3.7/dist-packages (from matplotlib) (1.3.1)\n",
            "Requirement already satisfied: six in /usr/local/lib/python3.7/dist-packages (from cycler>=0.10->matplotlib) (1.15.0)\n",
            "Requirement already satisfied: IPython in /usr/local/lib/python3.7/dist-packages (5.5.0)\n",
            "Requirement already satisfied: pexpect in /usr/local/lib/python3.7/dist-packages (from IPython) (4.8.0)\n",
            "Requirement already satisfied: simplegeneric>0.8 in /usr/local/lib/python3.7/dist-packages (from IPython) (0.8.1)\n",
            "Requirement already satisfied: setuptools>=18.5 in /usr/local/lib/python3.7/dist-packages (from IPython) (57.2.0)\n",
            "Requirement already satisfied: prompt-toolkit<2.0.0,>=1.0.4 in /usr/local/lib/python3.7/dist-packages (from IPython) (1.0.18)\n",
            "Requirement already satisfied: decorator in /usr/local/lib/python3.7/dist-packages (from IPython) (4.4.2)\n",
            "Requirement already satisfied: pickleshare in /usr/local/lib/python3.7/dist-packages (from IPython) (0.7.5)\n",
            "Requirement already satisfied: pygments in /usr/local/lib/python3.7/dist-packages (from IPython) (2.6.1)\n",
            "Requirement already satisfied: traitlets>=4.2 in /usr/local/lib/python3.7/dist-packages (from IPython) (5.0.5)\n",
            "Requirement already satisfied: wcwidth in /usr/local/lib/python3.7/dist-packages (from prompt-toolkit<2.0.0,>=1.0.4->IPython) (0.2.5)\n",
            "Requirement already satisfied: six>=1.9.0 in /usr/local/lib/python3.7/dist-packages (from prompt-toolkit<2.0.0,>=1.0.4->IPython) (1.15.0)\n",
            "Requirement already satisfied: ipython-genutils in /usr/local/lib/python3.7/dist-packages (from traitlets>=4.2->IPython) (0.2.0)\n",
            "Requirement already satisfied: ptyprocess>=0.5 in /usr/local/lib/python3.7/dist-packages (from pexpect->IPython) (0.7.0)\n"
          ],
          "name": "stdout"
        }
      ]
    },
    {
      "cell_type": "code",
      "metadata": {
        "id": "8Zvhu_TkMaeL"
      },
      "source": [
        "import pandas as pd\n",
        "import numpy as np\n",
        "import matplotlib.pyplot as plt\n",
        "import IPython.display as d"
      ],
      "execution_count": null,
      "outputs": []
    },
    {
      "cell_type": "code",
      "metadata": {
        "colab": {
          "base_uri": "https://localhost:8080/",
          "height": 417
        },
        "id": "kA30xmOUNK77",
        "outputId": "bc55dd49-32aa-4b2f-e6f5-da0e142a1d02"
      },
      "source": [
        "datadf=pd.read_csv('https://raw.githubusercontent.com/\\\n",
        "Priya378/Internet-Analysis-Project/main/data.csv')\n",
        "datadf.rename(columns={\"Unnamed: 0\":\"Time\"},inplace=True)\n",
        "d.display(datadf)"
      ],
      "execution_count": null,
      "outputs": [
        {
          "output_type": "display_data",
          "data": {
            "text/html": [
              "<div>\n",
              "<style scoped>\n",
              "    .dataframe tbody tr th:only-of-type {\n",
              "        vertical-align: middle;\n",
              "    }\n",
              "\n",
              "    .dataframe tbody tr th {\n",
              "        vertical-align: top;\n",
              "    }\n",
              "\n",
              "    .dataframe thead th {\n",
              "        text-align: right;\n",
              "    }\n",
              "</style>\n",
              "<table border=\"1\" class=\"dataframe\">\n",
              "  <thead>\n",
              "    <tr style=\"text-align: right;\">\n",
              "      <th></th>\n",
              "      <th>Time</th>\n",
              "      <th>Server</th>\n",
              "      <th>Latency</th>\n",
              "      <th>Jitter</th>\n",
              "      <th>Download</th>\n",
              "      <th>Upload</th>\n",
              "      <th>Packet Loss</th>\n",
              "    </tr>\n",
              "  </thead>\n",
              "  <tbody>\n",
              "    <tr>\n",
              "      <th>0</th>\n",
              "      <td>Tue Jun 22 12:38:01</td>\n",
              "      <td>Airtel Broadband - Chennai</td>\n",
              "      <td>39.54</td>\n",
              "      <td>21.98</td>\n",
              "      <td>6.63</td>\n",
              "      <td>1.41</td>\n",
              "      <td>NaN</td>\n",
              "    </tr>\n",
              "    <tr>\n",
              "      <th>1</th>\n",
              "      <td>Tue Jun 22 12:40:01</td>\n",
              "      <td>Airgenie - Chennai</td>\n",
              "      <td>78.52</td>\n",
              "      <td>1.77</td>\n",
              "      <td>5.50</td>\n",
              "      <td>1.36</td>\n",
              "      <td>NaN</td>\n",
              "    </tr>\n",
              "    <tr>\n",
              "      <th>2</th>\n",
              "      <td>Tue Jun 22 12:42:01</td>\n",
              "      <td>Airtel Broadband - Chennai</td>\n",
              "      <td>71.26</td>\n",
              "      <td>9.71</td>\n",
              "      <td>5.39</td>\n",
              "      <td>1.70</td>\n",
              "      <td>NaN</td>\n",
              "    </tr>\n",
              "    <tr>\n",
              "      <th>3</th>\n",
              "      <td>Tue Jun 22 12:44:01</td>\n",
              "      <td>TataSky Broadband Private Limited - Chennai</td>\n",
              "      <td>41.48</td>\n",
              "      <td>20.52</td>\n",
              "      <td>3.24</td>\n",
              "      <td>1.05</td>\n",
              "      <td>0.0</td>\n",
              "    </tr>\n",
              "    <tr>\n",
              "      <th>4</th>\n",
              "      <td>Tue Jun 22 12:46:01</td>\n",
              "      <td>NaN</td>\n",
              "      <td>NaN</td>\n",
              "      <td>NaN</td>\n",
              "      <td>NaN</td>\n",
              "      <td>NaN</td>\n",
              "      <td>NaN</td>\n",
              "    </tr>\n",
              "    <tr>\n",
              "      <th>...</th>\n",
              "      <td>...</td>\n",
              "      <td>...</td>\n",
              "      <td>...</td>\n",
              "      <td>...</td>\n",
              "      <td>...</td>\n",
              "      <td>...</td>\n",
              "      <td>...</td>\n",
              "    </tr>\n",
              "    <tr>\n",
              "      <th>4864</th>\n",
              "      <td>Tue Jun 29 13:12:02</td>\n",
              "      <td>Shyam Spectra - Chennai</td>\n",
              "      <td>53.80</td>\n",
              "      <td>16.12</td>\n",
              "      <td>7.20</td>\n",
              "      <td>3.49</td>\n",
              "      <td>0.0</td>\n",
              "    </tr>\n",
              "    <tr>\n",
              "      <th>4865</th>\n",
              "      <td>Tue Jun 29 13:14:01</td>\n",
              "      <td>Airtel Broadband - Chennai</td>\n",
              "      <td>55.54</td>\n",
              "      <td>6.93</td>\n",
              "      <td>5.91</td>\n",
              "      <td>2.90</td>\n",
              "      <td>NaN</td>\n",
              "    </tr>\n",
              "    <tr>\n",
              "      <th>4866</th>\n",
              "      <td>Tue Jun 29 13:16:01</td>\n",
              "      <td>TATASky Broadband Pvt Ltd - Bangalore</td>\n",
              "      <td>73.10</td>\n",
              "      <td>44.00</td>\n",
              "      <td>1.46</td>\n",
              "      <td>2.64</td>\n",
              "      <td>0.0</td>\n",
              "    </tr>\n",
              "    <tr>\n",
              "      <th>4867</th>\n",
              "      <td>Tue Jun 29 13:18:01</td>\n",
              "      <td>ACT Fibernet - Bangalore</td>\n",
              "      <td>72.41</td>\n",
              "      <td>44.61</td>\n",
              "      <td>5.77</td>\n",
              "      <td>2.66</td>\n",
              "      <td>0.4</td>\n",
              "    </tr>\n",
              "    <tr>\n",
              "      <th>4868</th>\n",
              "      <td>Tue Jun 29 13:20:01</td>\n",
              "      <td>JIFFY CABLE AND DATACOM - Bangalore</td>\n",
              "      <td>81.20</td>\n",
              "      <td>110.50</td>\n",
              "      <td>5.43</td>\n",
              "      <td>2.89</td>\n",
              "      <td>0.0</td>\n",
              "    </tr>\n",
              "  </tbody>\n",
              "</table>\n",
              "<p>4869 rows × 7 columns</p>\n",
              "</div>"
            ],
            "text/plain": [
              "                     Time  ... Packet Loss\n",
              "0     Tue Jun 22 12:38:01  ...         NaN\n",
              "1     Tue Jun 22 12:40:01  ...         NaN\n",
              "2     Tue Jun 22 12:42:01  ...         NaN\n",
              "3     Tue Jun 22 12:44:01  ...         0.0\n",
              "4     Tue Jun 22 12:46:01  ...         NaN\n",
              "...                   ...  ...         ...\n",
              "4864  Tue Jun 29 13:12:02  ...         0.0\n",
              "4865  Tue Jun 29 13:14:01  ...         NaN\n",
              "4866  Tue Jun 29 13:16:01  ...         0.0\n",
              "4867  Tue Jun 29 13:18:01  ...         0.4\n",
              "4868  Tue Jun 29 13:20:01  ...         0.0\n",
              "\n",
              "[4869 rows x 7 columns]"
            ]
          },
          "metadata": {
            "tags": []
          }
        }
      ]
    },
    {
      "cell_type": "markdown",
      "metadata": {
        "id": "UvWQjljcmW6N"
      },
      "source": [
        "**Best Conditions**:\n",
        "- `Latency: lower the better\n",
        "- Jitter: lower the better\n",
        "- Download: higher the better\n",
        "- Upload: higher the better\n",
        "- Packet Loss: 0.0%"
      ]
    },
    {
      "cell_type": "markdown",
      "metadata": {
        "id": "2o_APr8GN9Ba"
      },
      "source": [
        "**Dataframe has 4869 entries having data spanning a week.**"
      ]
    },
    {
      "cell_type": "markdown",
      "metadata": {
        "id": "8UJh7oWUODmy"
      },
      "source": [
        "## **Outages and Server analysis**"
      ]
    },
    {
      "cell_type": "markdown",
      "metadata": {
        "id": "6CJ_npG4OMa4"
      },
      "source": [
        "When network outages happen, all the attributes like latency, jitter, download, upload, packet loss are null because of complete or partial failure of the internet services. In the below figure (obtained from statistics.log) we can see network outages from line 2576 onwards."
      ]
    },
    {
      "cell_type": "markdown",
      "metadata": {
        "id": "kZh5PEssTo-w"
      },
      "source": [
        "Only values corresponding to all the attributes are stored in the csv file for the ease of analysis."
      ]
    },
    {
      "cell_type": "markdown",
      "metadata": {
        "id": "GdDeXJuOTqjX"
      },
      "source": [
        "![Logfile.PNG](data:image/png;base64,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)"
      ]
    },
    {
      "cell_type": "code",
      "metadata": {
        "colab": {
          "base_uri": "https://localhost:8080/",
          "height": 447
        },
        "id": "-FOqwqHGWoEZ",
        "outputId": "184cac9c-dd86-4103-e78d-0953188cf426"
      },
      "source": [
        "outagedf=datadf.set_index(\"Time\",inplace=False) # pylint: disable=no-member\n",
        "d.display(outagedf)"
      ],
      "execution_count": null,
      "outputs": [
        {
          "output_type": "display_data",
          "data": {
            "text/html": [
              "<div>\n",
              "<style scoped>\n",
              "    .dataframe tbody tr th:only-of-type {\n",
              "        vertical-align: middle;\n",
              "    }\n",
              "\n",
              "    .dataframe tbody tr th {\n",
              "        vertical-align: top;\n",
              "    }\n",
              "\n",
              "    .dataframe thead th {\n",
              "        text-align: right;\n",
              "    }\n",
              "</style>\n",
              "<table border=\"1\" class=\"dataframe\">\n",
              "  <thead>\n",
              "    <tr style=\"text-align: right;\">\n",
              "      <th></th>\n",
              "      <th>Server</th>\n",
              "      <th>Latency</th>\n",
              "      <th>Jitter</th>\n",
              "      <th>Download</th>\n",
              "      <th>Upload</th>\n",
              "      <th>Packet Loss</th>\n",
              "    </tr>\n",
              "    <tr>\n",
              "      <th>Time</th>\n",
              "      <th></th>\n",
              "      <th></th>\n",
              "      <th></th>\n",
              "      <th></th>\n",
              "      <th></th>\n",
              "      <th></th>\n",
              "    </tr>\n",
              "  </thead>\n",
              "  <tbody>\n",
              "    <tr>\n",
              "      <th>Tue Jun 22 12:38:01</th>\n",
              "      <td>Airtel Broadband - Chennai</td>\n",
              "      <td>39.54</td>\n",
              "      <td>21.98</td>\n",
              "      <td>6.63</td>\n",
              "      <td>1.41</td>\n",
              "      <td>NaN</td>\n",
              "    </tr>\n",
              "    <tr>\n",
              "      <th>Tue Jun 22 12:40:01</th>\n",
              "      <td>Airgenie - Chennai</td>\n",
              "      <td>78.52</td>\n",
              "      <td>1.77</td>\n",
              "      <td>5.50</td>\n",
              "      <td>1.36</td>\n",
              "      <td>NaN</td>\n",
              "    </tr>\n",
              "    <tr>\n",
              "      <th>Tue Jun 22 12:42:01</th>\n",
              "      <td>Airtel Broadband - Chennai</td>\n",
              "      <td>71.26</td>\n",
              "      <td>9.71</td>\n",
              "      <td>5.39</td>\n",
              "      <td>1.70</td>\n",
              "      <td>NaN</td>\n",
              "    </tr>\n",
              "    <tr>\n",
              "      <th>Tue Jun 22 12:44:01</th>\n",
              "      <td>TataSky Broadband Private Limited - Chennai</td>\n",
              "      <td>41.48</td>\n",
              "      <td>20.52</td>\n",
              "      <td>3.24</td>\n",
              "      <td>1.05</td>\n",
              "      <td>0.0</td>\n",
              "    </tr>\n",
              "    <tr>\n",
              "      <th>Tue Jun 22 12:46:01</th>\n",
              "      <td>NaN</td>\n",
              "      <td>NaN</td>\n",
              "      <td>NaN</td>\n",
              "      <td>NaN</td>\n",
              "      <td>NaN</td>\n",
              "      <td>NaN</td>\n",
              "    </tr>\n",
              "    <tr>\n",
              "      <th>...</th>\n",
              "      <td>...</td>\n",
              "      <td>...</td>\n",
              "      <td>...</td>\n",
              "      <td>...</td>\n",
              "      <td>...</td>\n",
              "      <td>...</td>\n",
              "    </tr>\n",
              "    <tr>\n",
              "      <th>Tue Jun 29 13:12:02</th>\n",
              "      <td>Shyam Spectra - Chennai</td>\n",
              "      <td>53.80</td>\n",
              "      <td>16.12</td>\n",
              "      <td>7.20</td>\n",
              "      <td>3.49</td>\n",
              "      <td>0.0</td>\n",
              "    </tr>\n",
              "    <tr>\n",
              "      <th>Tue Jun 29 13:14:01</th>\n",
              "      <td>Airtel Broadband - Chennai</td>\n",
              "      <td>55.54</td>\n",
              "      <td>6.93</td>\n",
              "      <td>5.91</td>\n",
              "      <td>2.90</td>\n",
              "      <td>NaN</td>\n",
              "    </tr>\n",
              "    <tr>\n",
              "      <th>Tue Jun 29 13:16:01</th>\n",
              "      <td>TATASky Broadband Pvt Ltd - Bangalore</td>\n",
              "      <td>73.10</td>\n",
              "      <td>44.00</td>\n",
              "      <td>1.46</td>\n",
              "      <td>2.64</td>\n",
              "      <td>0.0</td>\n",
              "    </tr>\n",
              "    <tr>\n",
              "      <th>Tue Jun 29 13:18:01</th>\n",
              "      <td>ACT Fibernet - Bangalore</td>\n",
              "      <td>72.41</td>\n",
              "      <td>44.61</td>\n",
              "      <td>5.77</td>\n",
              "      <td>2.66</td>\n",
              "      <td>0.4</td>\n",
              "    </tr>\n",
              "    <tr>\n",
              "      <th>Tue Jun 29 13:20:01</th>\n",
              "      <td>JIFFY CABLE AND DATACOM - Bangalore</td>\n",
              "      <td>81.20</td>\n",
              "      <td>110.50</td>\n",
              "      <td>5.43</td>\n",
              "      <td>2.89</td>\n",
              "      <td>0.0</td>\n",
              "    </tr>\n",
              "  </tbody>\n",
              "</table>\n",
              "<p>4869 rows × 6 columns</p>\n",
              "</div>"
            ],
            "text/plain": [
              "                                                          Server  ...  Packet Loss\n",
              "Time                                                              ...             \n",
              "Tue Jun 22 12:38:01                   Airtel Broadband - Chennai  ...          NaN\n",
              "Tue Jun 22 12:40:01                           Airgenie - Chennai  ...          NaN\n",
              "Tue Jun 22 12:42:01                   Airtel Broadband - Chennai  ...          NaN\n",
              "Tue Jun 22 12:44:01  TataSky Broadband Private Limited - Chennai  ...          0.0\n",
              "Tue Jun 22 12:46:01                                          NaN  ...          NaN\n",
              "...                                                          ...  ...          ...\n",
              "Tue Jun 29 13:12:02                      Shyam Spectra - Chennai  ...          0.0\n",
              "Tue Jun 29 13:14:01                   Airtel Broadband - Chennai  ...          NaN\n",
              "Tue Jun 29 13:16:01        TATASky Broadband Pvt Ltd - Bangalore  ...          0.0\n",
              "Tue Jun 29 13:18:01                     ACT Fibernet - Bangalore  ...          0.4\n",
              "Tue Jun 29 13:20:01          JIFFY CABLE AND DATACOM - Bangalore  ...          0.0\n",
              "\n",
              "[4869 rows x 6 columns]"
            ]
          },
          "metadata": {
            "tags": []
          }
        }
      ]
    },
    {
      "cell_type": "markdown",
      "metadata": {
        "id": "eUyBb5VlYbRe"
      },
      "source": [
        "**Iterating over the rows of the dataframe to**:\n",
        "\n",
        "*   Find out the most connected server\n",
        "*   Hour corresponding to maximum outages\n",
        "*   Day corresponding to maximum outages\n",
        "\n",
        "**If values in all the columns for a row are absent, we can say that network outage happened during that time.**\n",
        "\n"
      ]
    },
    {
      "cell_type": "code",
      "metadata": {
        "id": "eqhMJvT4X49w"
      },
      "source": [
        "day_outages={}\n",
        "hour_outages={}\n",
        "days=[\"Sun\",\"Mon\",\"Tue\",\"Wed\",\"Thu\",\"Fri\",\"Sat\"]\n",
        "hours=list(range(24))\n",
        "columns=[]\n",
        "for x in outagedf:\n",
        "    columns.append(x)\n",
        "columns.remove(\"Server\")\n",
        "servers={}\n",
        "\n",
        "for i in days:\n",
        "    day_outages[i]=0\n",
        "\n",
        "for i in hours:\n",
        "    hour_outages[str(i)+\":00\"]=0\n",
        "\n",
        "for i in outagedf.index.values:\n",
        "    F=0\n",
        "    if isinstance(outagedf.loc[i][\"Server\"],str):\n",
        "        servers[outagedf.loc[i][\"Server\"]]=servers.get(outagedf.loc[i][\"Server\"],0)+1\n",
        "    for x in columns:\n",
        "        if not np.isnan(outagedf.loc[i][x]):\n",
        "            F=1\n",
        "    if F==0:\n",
        "        day_outages[i[:3]]+=1\n",
        "        hour_outages[str(int(i[11:13]))+\":00\"]+=1"
      ],
      "execution_count": null,
      "outputs": []
    },
    {
      "cell_type": "code",
      "metadata": {
        "id": "XLz8X0OLadTG"
      },
      "source": [
        "hour_outagedf=pd.DataFrame({\"Count\":hour_outages}).sort_values([\"Count\"],ascending=0)\n",
        "print(\"Number of outages in each hour:\")\n",
        "d.display(hour_outagedf)"
      ],
      "execution_count": null,
      "outputs": []
    },
    {
      "cell_type": "code",
      "metadata": {
        "id": "LB_7lVN3arOs"
      },
      "source": [
        "keys=hour_outages.keys()\n",
        "values=hour_outages.values()\n",
        "fig=plt.gcf()\n",
        "fig.set_size_inches(20,5)\n",
        "plt.bar(keys,values)\n",
        "plt.xlabel(\"Hour\",fontsize=15)\n",
        "plt.ylabel(\"Count of outages\",fontsize=15)\n",
        "plt.title(\"Network Outages\",pad='10',fontsize=20)\n",
        "plt.show()"
      ],
      "execution_count": null,
      "outputs": []
    },
    {
      "cell_type": "markdown",
      "metadata": {
        "id": "m3KG9zg4a9TB"
      },
      "source": [
        "**Network outages happened maximum times at 8:00 IST. No outages were observed at 0:00 IST, 2:00 IST, 23:00 IST, 1:00 IST, 18:00 IST, 16:00 IST, 11:00 IST and 20 IST.**"
      ]
    },
    {
      "cell_type": "code",
      "metadata": {
        "id": "z8Il_zKrbHWN"
      },
      "source": [
        "day_outagedf=pd.DataFrame({\"Count of Days\":day_outages}).sort_values([\"Count of Days\"],ascending=0)\n",
        "print(\"Number of outages in each week day:\")\n",
        "d.display(day_outagedf)"
      ],
      "execution_count": null,
      "outputs": []
    },
    {
      "cell_type": "code",
      "metadata": {
        "id": "-iN-0_JAbPgs"
      },
      "source": [
        "keys=day_outages.keys()\n",
        "values=day_outages.values()\n",
        "fig=plt.gcf()\n",
        "fig.set_size_inches(12,5)\n",
        "plt.bar(keys,values)\n",
        "plt.xlabel(\"Days\",fontsize=15)\n",
        "plt.ylabel(\"Count of outages\",fontsize=15)\n",
        "plt.title(\"Network Outages\",pad='10',fontsize=20)\n",
        "plt.show()"
      ],
      "execution_count": null,
      "outputs": []
    },
    {
      "cell_type": "markdown",
      "metadata": {
        "id": "OXcQVmzBbeyQ"
      },
      "source": [
        "**We can see that thursday had got least number of network outages and tuesday had got the most.**\n"
      ]
    },
    {
      "cell_type": "code",
      "metadata": {
        "id": "99QuTW4AbsMw"
      },
      "source": [
        "connections=pd.DataFrame({\"Connections\":servers})\n",
        "connections=connections.sort_values([\"Connections\"], ascending =0)\n",
        "print(\"Connections each server made:\")\n",
        "d.display(connections)"
      ],
      "execution_count": null,
      "outputs": []
    },
    {
      "cell_type": "markdown",
      "metadata": {
        "id": "QspkwSD0bxPD"
      },
      "source": [
        " **Most connected server is Airtel Broadband - Chennai**"
      ]
    },
    {
      "cell_type": "markdown",
      "metadata": {
        "id": "OgBfn3h1dZiS"
      },
      "source": [
        "##**Analysis of days and hours**"
      ]
    },
    {
      "cell_type": "code",
      "metadata": {
        "id": "rgldax80dig4"
      },
      "source": [
        "df=datadf.copy()\n",
        "df.insert (0,\"Day\",[row[:3] for row in df[\"Time\"]])\n",
        "df.insert (1,\"Hour\",[row[11:13]+\":00\" for row in df[\"Time\"]])\n",
        "d.display(df)"
      ],
      "execution_count": null,
      "outputs": []
    },
    {
      "cell_type": "markdown",
      "metadata": {
        "id": "zzcJKDrChnv1"
      },
      "source": [
        "### **Analysis of days**"
      ]
    },
    {
      "cell_type": "code",
      "metadata": {
        "id": "UDkcHQi3d5uh"
      },
      "source": [
        "daydf=df.groupby(\"Day\").agg({\n",
        "  \"Latency\":\"mean\",\n",
        "  \"Jitter\":\"mean\",\n",
        "  \"Download\":\"mean\",\n",
        "  \"Upload\":\"mean\",\n",
        " \"Packet Loss\":\"mean\"}).round(2)"
      ],
      "execution_count": null,
      "outputs": []
    },
    {
      "cell_type": "code",
      "metadata": {
        "id": "6o6w89f9ea1e"
      },
      "source": [
        "d.display(daydf)"
      ],
      "execution_count": null,
      "outputs": []
    },
    {
      "cell_type": "code",
      "metadata": {
        "id": "3T4PDn7weeYE"
      },
      "source": [
        "daydf_analyse=pd.DataFrame({\"Minimum on\":daydf.idxmin(),\"Maximum on\":daydf.idxmax()})"
      ],
      "execution_count": null,
      "outputs": []
    },
    {
      "cell_type": "code",
      "metadata": {
        "id": "U52SDFSxepx1"
      },
      "source": [
        "d.display(daydf_analyse)"
      ],
      "execution_count": null,
      "outputs": []
    },
    {
      "cell_type": "markdown",
      "metadata": {
        "id": "U253_2E6e3xd"
      },
      "source": [
        " **Conclusions:**\n",
        "\n",
        "---\n",
        "\n",
        "\n",
        "\n",
        "\n",
        "*   **Thursday** was the **best** in terms of **average latency**\n",
        "*   **Tuesday** was the **worst** in terms of **average latency**\n",
        "\n",
        "*   **Tuesday** was the **best** in terms of **average jitter**\n",
        "*   **Sunday** was the **worst** in terms of **average jitter**\n",
        "\n",
        "*   **Thursday** was the **best** in terms of **average packet loss**\n",
        "*   **Monday** was the **worst** in terms of **average packet loss**\n",
        "\n",
        "*   **Sunday** was the **best** in terms of **average download speed**\n",
        "*   **Saturday** was the **worst** in terms of **average download speed**\n",
        "\n",
        "*   **Friday** was the **best** in terms of **average upload speed**\n",
        "*   **Wednesday** was the **worst** in terms of **average upload speed**\n",
        "\n",
        "\n"
      ]
    },
    {
      "cell_type": "markdown",
      "metadata": {
        "id": "Qb5J8bW2ht1w"
      },
      "source": [
        "### **Analysis of hours**"
      ]
    },
    {
      "cell_type": "code",
      "metadata": {
        "id": "UMq8RzMYe_Fp"
      },
      "source": [
        "hourdf=df.groupby(\"Hour\").agg({\n",
        "  \"Latency\":\"mean\",\n",
        "  \"Jitter\":\"mean\",\n",
        "  \"Download\":\"mean\",\n",
        "  \"Upload\":\"mean\",\n",
        " \"Packet Loss\":\"mean\"}).round(2)"
      ],
      "execution_count": null,
      "outputs": []
    },
    {
      "cell_type": "code",
      "metadata": {
        "id": "oDltLElvfHq8"
      },
      "source": [
        "d.display(hourdf)"
      ],
      "execution_count": null,
      "outputs": []
    },
    {
      "cell_type": "code",
      "metadata": {
        "id": "5Lyo32q8fOkt"
      },
      "source": [
        "hourdf_analyse=pd.DataFrame({\"Minimum at\":hourdf.idxmin(),\"Maximum at\":hourdf.idxmax()})"
      ],
      "execution_count": null,
      "outputs": []
    },
    {
      "cell_type": "code",
      "metadata": {
        "id": "pcSMcYg3fo9-"
      },
      "source": [
        "d.display(hourdf_analyse)"
      ],
      "execution_count": null,
      "outputs": []
    },
    {
      "cell_type": "markdown",
      "metadata": {
        "id": "87bU6-28fzqs"
      },
      "source": [
        " **Conclusions:**\n",
        "\n",
        "---\n",
        "\n",
        "\n",
        "\n",
        "\n",
        "*   **01:00 IST** was the **best** in terms of **average latency**\n",
        "*   **09:00 IST** was the **worst** in terms of **average latency**\n",
        "\n",
        "*   **04:00 IST** was the **best** in terms of **average jitter**\n",
        "*   **08:00 IST** was the **worst** in terms of **average jitter**\n",
        "\n",
        "*   **06:00 IST** was the **best** in terms of **average packet loss**\n",
        "*   **07:00 IST** was the **worst** in terms of **average packet loss**\n",
        "\n",
        "*   **04:00 IST** was the **best** in terms of **average download speed**\n",
        "*   **22:00 IST** was the **worst** in terms of **average download speed**\n",
        "\n",
        "*   **02:00 IST** was the **best** in terms of **average upload speed**\n",
        "*   **20:00 IST** was the **worst** in terms of **average upload speed**\n",
        "\n",
        "\n"
      ]
    },
    {
      "cell_type": "markdown",
      "metadata": {
        "id": "ol0oT-tmf8cr"
      },
      "source": [
        "## **Overall Analysis**"
      ]
    },
    {
      "cell_type": "code",
      "metadata": {
        "id": "cTKG60SdgJOh"
      },
      "source": [
        "d.display(df)"
      ],
      "execution_count": null,
      "outputs": []
    },
    {
      "cell_type": "code",
      "metadata": {
        "id": "tW84Vqrhi1Cu"
      },
      "source": [
        "analysed=df.groupby([\"Day\",\"Hour\"]).agg({\n",
        "   \"Latency\":\"mean\",\n",
        "   \"Jitter\":\"mean\",\n",
        "   \"Download\":\"mean\",\n",
        "   \"Upload\":\"mean\",\n",
        "   \"Packet Loss\":\"mean\"\n",
        "}).round(2)"
      ],
      "execution_count": null,
      "outputs": []
    },
    {
      "cell_type": "code",
      "metadata": {
        "id": "KCiq5eMmi-te"
      },
      "source": [
        "d.display(analysed)"
      ],
      "execution_count": null,
      "outputs": []
    },
    {
      "cell_type": "code",
      "metadata": {
        "id": "UxCROYwsK_Js"
      },
      "source": [
        "analysed.to_csv('analytics.csv', index=True)"
      ],
      "execution_count": null,
      "outputs": []
    },
    {
      "cell_type": "code",
      "metadata": {
        "id": "HQuuzDrdjOnw"
      },
      "source": [
        "overall_df=analysed.groupby(\"Day\").agg({\n",
        "  \"Latency\":[\"min\",\"idxmin\",\"max\",\"idxmax\"],\n",
        "  \"Jitter\":[\"min\",\"idxmin\",\"max\",\"idxmax\"],\n",
        "  \"Download\":[\"min\",\"idxmin\",\"max\",\"idxmax\"],\n",
        "  \"Upload\":[\"min\",\"idxmin\",\"max\",\"idxmax\"],\n",
        " \"Packet Loss\":[\"min\",\"idxmin\",\"max\",\"idxmax\"]})"
      ],
      "execution_count": null,
      "outputs": []
    },
    {
      "cell_type": "code",
      "metadata": {
        "id": "ILzvaUWFjy9_"
      },
      "source": [
        "d.display(overall_df)"
      ],
      "execution_count": null,
      "outputs": []
    },
    {
      "cell_type": "markdown",
      "metadata": {
        "id": "lEBUs_ckNwZ1"
      },
      "source": [
        "We are replacing tuple (Day, Hour) with Hour alone, and renaming the dataframe:"
      ]
    },
    {
      "cell_type": "code",
      "metadata": {
        "id": "RVR1pIOts3a5"
      },
      "source": [
        "columns=[\"Latency\",\"Jitter\",\"Download\",\"Upload\",\"Packet Loss\"]\n",
        "for col in columns:\n",
        "    overall_df[(col,\"idxmin\")]=analysed.loc[overall_df[col][\"idxmin\"]]\\\n",
        "    .index.get_level_values(1)\n",
        "    overall_df[(col,\"idxmax\")]=analysed.loc[overall_df[col][\"idxmax\"]]\\\n",
        "    .index.get_level_values(1)\n",
        "  #print(overall_df2[(col,\"idxmin\")])\n",
        "  #print(analysedf2.loc[[x for x in overall_df2[col][\"idxmin\"]]].index.get_level_values(1))"
      ],
      "execution_count": null,
      "outputs": []
    },
    {
      "cell_type": "code",
      "metadata": {
        "id": "PVeD7oidgiGB"
      },
      "source": [
        "overall_df=overall_df.rename(columns={\n",
        "    \"idxmin\":\"Hour (Min)\",\n",
        "    \"idxmax\":\"Hour (Max)\"\n",
        "})"
      ],
      "execution_count": null,
      "outputs": []
    },
    {
      "cell_type": "code",
      "metadata": {
        "id": "5K5DLo69g2IC"
      },
      "source": [
        "d.display(overall_df)"
      ],
      "execution_count": null,
      "outputs": []
    },
    {
      "cell_type": "code",
      "metadata": {
        "id": "m5NtRDxDF_fX"
      },
      "source": [
        "final_df=overall_df.drop(['min', 'max'],level=1, axis=1)"
      ],
      "execution_count": null,
      "outputs": []
    },
    {
      "cell_type": "code",
      "metadata": {
        "id": "0_-QZ8yrjIbE"
      },
      "source": [
        "d.display(final_df)"
      ],
      "execution_count": null,
      "outputs": []
    },
    {
      "cell_type": "markdown",
      "metadata": {
        "id": "_2-iDjRLh8u0"
      },
      "source": [
        "* Above table provides the best and worst timings for various \n",
        "attributes for each and every day.\n",
        "\n",
        "\n",
        "\n",
        "\n",
        "\n",
        "\n",
        "\n",
        "\n",
        "\n",
        "\n",
        "\n"
      ]
    },
    {
      "cell_type": "code",
      "metadata": {
        "id": "rNOlFcaSL35s"
      },
      "source": [
        "Min_Latency_Day=overall_df[\"Latency\",\"min\"].idxmin()\n",
        "Corresponding_hour=overall_df.loc[overall_df[\"Latency\",\"min\"].idxmin()][\"Latency\"][\"Hour (Min)\"]\n",
        "print(\"Best day and hour for low latency activities: \"\\\n",
        "      ,Min_Latency_Day,\"and\",Corresponding_hour,\"IST.\")"
      ],
      "execution_count": null,
      "outputs": []
    }
  ]
}